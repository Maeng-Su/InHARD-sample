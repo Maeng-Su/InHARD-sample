{
 "cells": [
  {
   "cell_type": "code",
   "execution_count": 1,
   "id": "e29628f7",
   "metadata": {},
   "outputs": [
    {
     "name": "stdout",
     "output_type": "stream",
     "text": [
      "OpenCV version: 4.5.3\n",
      "Pandas version: 1.4.2\n"
     ]
    }
   ],
   "source": [
    "# 필요한 라이브러리가 설치되어 있지 않다면 주석을 해제하고 실행하세요.\n",
    "# !pip install opencv-python pandas openpyxl\n",
    "\n",
    "import cv2\n",
    "import pandas as pd\n",
    "import os\n",
    "import subprocess\n",
    "\n",
    "print(f\"OpenCV version: {cv2.__version__}\")\n",
    "print(f\"Pandas version: {pd.__version__}\")"
   ]
  },
  {
   "cell_type": "code",
   "execution_count": 2,
   "id": "858bc6e7",
   "metadata": {},
   "outputs": [],
   "source": [
    "# --- 사용자 설정 ---\n",
    "# 샘플 영상 파일 이름\n",
    "video_file = './sample data/P01_R01.mp4'\n",
    "# GT 정보가 담긴 Excel 파일 이름\n",
    "excel_file = './sample data/Action-Meta-action-list.xlsx'\n",
    "# 분할된 영상들을 저장할 디렉토리 이름\n",
    "output_dir = 'split_videos'\n",
    "\n",
    "# --- 설정 확인 ---\n",
    "# 출력 디렉토리가 없으면 생성\n",
    "if not os.path.exists(output_dir):\n",
    "    os.makedirs(output_dir)\n",
    "    print(f\"'{output_dir}' 디렉토리를 생성했습니다.\")\n",
    "\n",
    "# 파일 존재 여부 확인\n",
    "if not os.path.exists(video_file):\n",
    "    print(f\"[오류] 영상 파일 '{video_file}'을 찾을 수 없습니다. 파일 경로를 확인해주세요.\")\n",
    "if not os.path.exists(excel_file):\n",
    "    print(f\"[오류] Excel 파일 '{excel_file}'을 찾을 수 없습니다. 파일 경로를 확인해주세요.\")"
   ]
  },
  {
   "cell_type": "code",
   "execution_count": 4,
   "id": "7e0f8266",
   "metadata": {},
   "outputs": [
    {
     "name": "stdout",
     "output_type": "stream",
     "text": [
      "FFmpeg를 사용하여 영상 분할을 시작합니다...\n",
      "영상 분할이 성공적으로 완료되었습니다!\n",
      "-> 결과는 'split_videos' 폴더에 저장되었습니다.\n"
     ]
    }
   ],
   "source": [
    "# --- 2. FFmpeg 명령어로 영상 분할 실행 ---\n",
    "print(\"FFmpeg를 사용하여 영상 분할을 시작합니다...\")\n",
    "\n",
    "### --- 수정된 부분 --- ###\n",
    "# 경로를 포함한 파일명에서 순수 파일명(확장자 제외)만 정확히 추출\n",
    "filename_only = os.path.basename(video_file)\n",
    "base_name = os.path.splitext(filename_only)[0]\n",
    "### ------------------ ###\n",
    "\n",
    "# 각 뷰(V1~V4)에 대한 파일 경로 설정\n",
    "output_v1 = os.path.join(output_dir, f'{base_name}_V1.mp4')\n",
    "output_v2 = os.path.join(output_dir, f'{base_name}_V2.mp4')\n",
    "output_v3 = os.path.join(output_dir, f'{base_name}_V3.mp4')\n",
    "output_v4 = os.path.join(output_dir, f'{base_name}_V4.mp4')\n",
    "\n",
    "command = [\n",
    "    'ffmpeg', '-y', '-i', video_file,\n",
    "    '-filter_complex',\n",
    "    \"[0:v]crop=iw/2:ih/2:0:0[tl];\" +\n",
    "    \"[0:v]crop=iw/2:ih/2:iw/2:0[tr];\" +\n",
    "    \"[0:v]crop=iw/2:ih/2:0:ih/2[bl];\" +\n",
    "    \"[0:v]crop=iw/2:ih/2:iw/2:ih/2[br]\",\n",
    "    '-map', '[tl]', output_v1,\n",
    "    '-map', '[tr]', output_v2,\n",
    "    '-map', '[bl]', output_v3,\n",
    "    '-map', '[br]', output_v4\n",
    "]\n",
    "\n",
    "try:\n",
    "    subprocess.run(command, check=True, capture_output=True, text=True)\n",
    "    print(\"영상 분할이 성공적으로 완료되었습니다!\")\n",
    "    print(f\"-> 결과는 '{output_dir}' 폴더에 저장되었습니다.\")\n",
    "except FileNotFoundError:\n",
    "    print(\"[오류] FFmpeg가 설치되어 있지 않거나 경로가 설정되지 않았습니다.\")\n",
    "except subprocess.CalledProcessError as e:\n",
    "    print(f\"[오류] FFmpeg 실행 중 오류가 발생했습니다.\")\n",
    "    print(f\"-> FFmpeg 에러 로그: {e.stderr}\") # 더 자세한 에러 로그 출력"
   ]
  },
  {
   "cell_type": "code",
   "execution_count": 7,
   "id": "9953a005",
   "metadata": {},
   "outputs": [
    {
     "name": "stdout",
     "output_type": "stream",
     "text": [
      "--- ./sample data/P01_R01.anvil | Track: Action Label ---\n"
     ]
    },
    {
     "data": {
      "application/vnd.microsoft.datawrangler.viewer.v0+json": {
       "columns": [
        {
         "name": "index",
         "rawType": "int64",
         "type": "integer"
        },
        {
         "name": "Label",
         "rawType": "object",
         "type": "string"
        },
        {
         "name": "Start Time (s)",
         "rawType": "float64",
         "type": "float"
        },
        {
         "name": "End Time (s)",
         "rawType": "float64",
         "type": "float"
        }
       ],
       "ref": "457ed8d8-eeb6-4098-a79c-4ae695af38a3",
       "rows": [
        [
         "0",
         "[OP010] Consult sheets",
         "2.72",
         "9.0"
        ],
        [
         "1",
         "[OP010] Catch Fixture key LARD",
         "11.28",
         "12.84"
        ],
        [
         "2",
         "[OP010] Place LARD on Profile P360-1",
         "13.84",
         "18.88"
        ],
        [
         "3",
         "[OP010] Catch Fixation FIXA1",
         "23.32",
         "25.44"
        ],
        [
         "4",
         "[OP010] Place FIXA1 on LARD at 160mm",
         "26.48",
         "28.8"
        ],
        [
         "5",
         "[OP010] Catch Bolt B820",
         "31.24",
         "32.4"
        ],
        [
         "6",
         "[OP010] Take measuring rod",
         "36.56",
         "37.92"
        ],
        [
         "7",
         "[OP010] Take screwdriver",
         "39.36",
         "40.4"
        ],
        [
         "8",
         "[OP010] Screw FIXA1 with B820",
         "41.2",
         "44.56"
        ],
        [
         "9",
         "[OP010] Put down screwdriver",
         "44.76",
         "47.24"
        ],
        [
         "10",
         "[OP010] Put down measuring rod",
         "47.28",
         "49.12"
        ],
        [
         "11",
         "[OP020] Turn sheets",
         "54.52",
         "57.52"
        ],
        [
         "12",
         "[OP020] Consult sheets",
         "57.56",
         "58.12"
        ],
        [
         "13",
         "[OP020] Catch Fixture key LARD",
         "58.76",
         "60.64"
        ],
        [
         "14",
         "[OP020] Place LARD on P360-1",
         "61.08",
         "66.28"
        ],
        [
         "15",
         "[OP020] Catch Bolt B820",
         "66.56",
         "69.32"
        ],
        [
         "16",
         "[OP020] Catch Fixation FIXA1",
         "69.88",
         "72.04"
        ],
        [
         "17",
         "[OP020] Place FIXA1 on LARD at 160mm",
         "73.56",
         "81.96"
        ],
        [
         "18",
         "[OP020] Take screwdriver",
         "82.24",
         "83.28"
        ],
        [
         "19",
         "[OP020] Take measuring rod",
         "84.52",
         "86.88"
        ],
        [
         "20",
         "[OP020] Screw FIXA1 with B820",
         "87.72",
         "92.0"
        ],
        [
         "21",
         "[OP020] Put down screwdriver",
         "92.32",
         "93.04"
        ],
        [
         "22",
         "[OP020] Put down measuring rod",
         "93.12",
         "95.44"
        ],
        [
         "23",
         "[OP030] Consult sheets",
         "107.12",
         "110.04"
        ],
        [
         "24",
         "[OP030] Catch Fixture key LARD (x2)",
         "111.12",
         "112.8"
        ],
        [
         "25",
         "[OP030] Place LARD on P360-1 (x2)",
         "116.88",
         "118.84"
        ],
        [
         "26",
         "[OP030] Catch Fixation FIXT (x2)",
         "124.48",
         "128.64"
        ],
        [
         "27",
         "[OP030] Place FIXT on LARD (x2)",
         "130.0",
         "134.60001"
        ],
        [
         "28",
         "[OP030] Catch Pillow block bearing PAL4019 (x2)",
         "136.44",
         "138.60001"
        ],
        [
         "29",
         "[OP030] Place PAL4019 on FIXT (x2)",
         "138.75999",
         "141.0"
        ],
        [
         "30",
         "[OP030] Catch Bolt B840 (x2)",
         "143.88",
         "145.52"
        ],
        [
         "31",
         "[OP030] Take screwdriver",
         "148.16",
         "148.8"
        ],
        [
         "32",
         "[OP030] Screw PAL4019 with B820 (x2)",
         "148.88",
         "153.16"
        ],
        [
         "33",
         "[OP030] Put down screwdriver",
         "153.24001",
         "155.60001"
        ],
        [
         "34",
         "[OP030] Catch Cover CAPO (x2)",
         "156.88",
         "159.16"
        ],
        [
         "35",
         "[OP030] Consult sheets",
         "160.0",
         "164.36"
        ],
        [
         "36",
         "[OP030] Place CAPO on P360-1(x2)",
         "165.8",
         "168.12"
        ],
        [
         "37",
         "[OP030] Catch Fixture key LARD (x2)",
         "171.08",
         "172.67999"
        ],
        [
         "38",
         "[OP030] Place LARD on P360-1 (x2)",
         "173.44",
         "175.44"
        ],
        [
         "39",
         "[OP030] Catch Fixation FIXT (x2)",
         "176.36",
         "178.16"
        ],
        [
         "40",
         "[OP030] Place FIXT on LARD (x2)",
         "179.03999",
         "183.36"
        ],
        [
         "41",
         "[OP030] Catch Pillow block bearing PAL4019 (x2)",
         "184.88",
         "186.32001"
        ],
        [
         "42",
         "[OP030] Place PAL4019 on FIXT (x2)",
         "186.64",
         "187.60001"
        ],
        [
         "43",
         "[OP030] Catch Bolt B840 (x2)",
         "188.2",
         "189.96001"
        ],
        [
         "44",
         "[OP030] Take screwdriver",
         "191.36",
         "193.08"
        ],
        [
         "45",
         "[OP030] Screw PAL4019 with B820 (x2)",
         "193.84",
         "196.24001"
        ],
        [
         "46",
         "[OP030] Put down screwdriver",
         "196.56",
         "198.60001"
        ],
        [
         "47",
         "[OP030] Catch Cover CAPO (x2)",
         "199.16",
         "200.84"
        ],
        [
         "48",
         "[OP030] Place CAPO on P360-1(x2)",
         "201.48",
         "204.8"
        ],
        [
         "49",
         "[OP030] Put down Profile P360-1",
         "217.52",
         "224.39999"
        ]
       ],
       "shape": {
        "columns": 3,
        "rows": 109
       }
      },
      "text/html": [
       "<div>\n",
       "<style scoped>\n",
       "    .dataframe tbody tr th:only-of-type {\n",
       "        vertical-align: middle;\n",
       "    }\n",
       "\n",
       "    .dataframe tbody tr th {\n",
       "        vertical-align: top;\n",
       "    }\n",
       "\n",
       "    .dataframe thead th {\n",
       "        text-align: right;\n",
       "    }\n",
       "</style>\n",
       "<table border=\"1\" class=\"dataframe\">\n",
       "  <thead>\n",
       "    <tr style=\"text-align: right;\">\n",
       "      <th></th>\n",
       "      <th>Label</th>\n",
       "      <th>Start Time (s)</th>\n",
       "      <th>End Time (s)</th>\n",
       "    </tr>\n",
       "  </thead>\n",
       "  <tbody>\n",
       "    <tr>\n",
       "      <th>0</th>\n",
       "      <td>[OP010] Consult sheets</td>\n",
       "      <td>2.72000</td>\n",
       "      <td>9.00000</td>\n",
       "    </tr>\n",
       "    <tr>\n",
       "      <th>1</th>\n",
       "      <td>[OP010] Catch Fixture key LARD</td>\n",
       "      <td>11.28000</td>\n",
       "      <td>12.84000</td>\n",
       "    </tr>\n",
       "    <tr>\n",
       "      <th>2</th>\n",
       "      <td>[OP010] Place LARD on Profile P360-1</td>\n",
       "      <td>13.84000</td>\n",
       "      <td>18.88000</td>\n",
       "    </tr>\n",
       "    <tr>\n",
       "      <th>3</th>\n",
       "      <td>[OP010] Catch Fixation FIXA1</td>\n",
       "      <td>23.32000</td>\n",
       "      <td>25.44000</td>\n",
       "    </tr>\n",
       "    <tr>\n",
       "      <th>4</th>\n",
       "      <td>[OP010] Place FIXA1 on LARD at 160mm</td>\n",
       "      <td>26.48000</td>\n",
       "      <td>28.80000</td>\n",
       "    </tr>\n",
       "    <tr>\n",
       "      <th>...</th>\n",
       "      <td>...</td>\n",
       "      <td>...</td>\n",
       "      <td>...</td>\n",
       "    </tr>\n",
       "    <tr>\n",
       "      <th>104</th>\n",
       "      <td>[OP070] Place ECR8 on DI2T</td>\n",
       "      <td>492.88000</td>\n",
       "      <td>497.88000</td>\n",
       "    </tr>\n",
       "    <tr>\n",
       "      <th>105</th>\n",
       "      <td>[OP070] Take screwdriver</td>\n",
       "      <td>504.64001</td>\n",
       "      <td>506.16000</td>\n",
       "    </tr>\n",
       "    <tr>\n",
       "      <th>106</th>\n",
       "      <td>[OP070] Screw P360-2 with B835</td>\n",
       "      <td>506.39999</td>\n",
       "      <td>509.79999</td>\n",
       "    </tr>\n",
       "    <tr>\n",
       "      <th>107</th>\n",
       "      <td>[OP070] Put down screwdriver</td>\n",
       "      <td>509.88000</td>\n",
       "      <td>512.08002</td>\n",
       "    </tr>\n",
       "    <tr>\n",
       "      <th>108</th>\n",
       "      <td>[OP070] Put down Lower Part</td>\n",
       "      <td>515.00000</td>\n",
       "      <td>523.28003</td>\n",
       "    </tr>\n",
       "  </tbody>\n",
       "</table>\n",
       "<p>109 rows × 3 columns</p>\n",
       "</div>"
      ],
      "text/plain": [
       "                                    Label  Start Time (s)  End Time (s)\n",
       "0                  [OP010] Consult sheets         2.72000       9.00000\n",
       "1          [OP010] Catch Fixture key LARD        11.28000      12.84000\n",
       "2    [OP010] Place LARD on Profile P360-1        13.84000      18.88000\n",
       "3            [OP010] Catch Fixation FIXA1        23.32000      25.44000\n",
       "4    [OP010] Place FIXA1 on LARD at 160mm        26.48000      28.80000\n",
       "..                                    ...             ...           ...\n",
       "104            [OP070] Place ECR8 on DI2T       492.88000     497.88000\n",
       "105              [OP070] Take screwdriver       504.64001     506.16000\n",
       "106        [OP070] Screw P360-2 with B835       506.39999     509.79999\n",
       "107          [OP070] Put down screwdriver       509.88000     512.08002\n",
       "108           [OP070] Put down Lower Part       515.00000     523.28003\n",
       "\n",
       "[109 rows x 3 columns]"
      ]
     },
     "metadata": {},
     "output_type": "display_data"
    },
    {
     "name": "stdout",
     "output_type": "stream",
     "text": [
      "\n",
      "==================================================\n",
      "\n",
      "--- ./sample data/P01_R01.anvil | Track: Meta-Action Label ---\n"
     ]
    },
    {
     "data": {
      "application/vnd.microsoft.datawrangler.viewer.v0+json": {
       "columns": [
        {
         "name": "index",
         "rawType": "int64",
         "type": "integer"
        },
        {
         "name": "Label",
         "rawType": "object",
         "type": "string"
        },
        {
         "name": "Start Time (s)",
         "rawType": "float64",
         "type": "float"
        },
        {
         "name": "End Time (s)",
         "rawType": "float64",
         "type": "float"
        }
       ],
       "ref": "e2b9dd31-8f75-4e95-986b-b930bc809356",
       "rows": [
        [
         "0",
         "[2] Consult sheets",
         "2.72",
         "9.0"
        ],
        [
         "1",
         "[7] Picking left",
         "11.28",
         "12.84"
        ],
        [
         "2",
         "[12] Assemble system",
         "13.84",
         "18.88"
        ],
        [
         "3",
         "[6] Picking in front",
         "23.32",
         "25.44"
        ],
        [
         "4",
         "[12] Assemble system",
         "26.48",
         "28.8"
        ],
        [
         "5",
         "[7] Picking left",
         "31.24",
         "32.4"
        ],
        [
         "6",
         "[8] Take measuring rod",
         "36.56",
         "37.92"
        ],
        [
         "7",
         "[4] Take screwdriver",
         "39.36",
         "40.4"
        ],
        [
         "8",
         "[12] Assemble system",
         "41.2",
         "44.56"
        ],
        [
         "9",
         "[5] Put down screwdriver",
         "44.76",
         "47.24"
        ],
        [
         "10",
         "[9] Put down measuring rod",
         "47.28",
         "49.12"
        ],
        [
         "11",
         "[3] Turn sheets",
         "54.52",
         "57.52"
        ],
        [
         "12",
         "[2] Consult sheets",
         "57.56",
         "58.12"
        ],
        [
         "13",
         "[7] Picking left",
         "58.76",
         "60.64"
        ],
        [
         "14",
         "[12] Assemble system",
         "61.08",
         "66.28"
        ],
        [
         "15",
         "[7] Picking left",
         "66.56",
         "69.32"
        ],
        [
         "16",
         "[6] Picking in front",
         "69.88",
         "72.04"
        ],
        [
         "17",
         "[12] Assemble system",
         "73.56",
         "81.96"
        ],
        [
         "18",
         "[4] Take screwdriver",
         "82.24",
         "83.28"
        ],
        [
         "19",
         "[8] Take measuring rod",
         "84.52",
         "86.88"
        ],
        [
         "20",
         "[12] Assemble system",
         "87.72",
         "92.0"
        ],
        [
         "21",
         "[5] Put down screwdriver",
         "92.32",
         "93.04"
        ],
        [
         "22",
         "[9] Put down measuring rod",
         "93.12",
         "95.44"
        ],
        [
         "23",
         "[2] Consult sheets",
         "107.12",
         "110.04"
        ],
        [
         "24",
         "[7] Picking left",
         "111.12",
         "112.8"
        ],
        [
         "25",
         "[12] Assemble system",
         "116.88",
         "118.84"
        ],
        [
         "26",
         "[6] Picking in front",
         "124.48",
         "128.64"
        ],
        [
         "27",
         "[12] Assemble system",
         "130.0",
         "134.60001"
        ],
        [
         "28",
         "[6] Picking in front",
         "136.44",
         "138.60001"
        ],
        [
         "29",
         "[12] Assemble system",
         "138.75999",
         "141.0"
        ],
        [
         "30",
         "[7] Picking left",
         "143.88",
         "145.52"
        ],
        [
         "31",
         "[4] Take screwdriver",
         "148.16",
         "148.8"
        ],
        [
         "32",
         "[12] Assemble system",
         "148.88",
         "153.16"
        ],
        [
         "33",
         "[5] Put down screwdriver",
         "153.24001",
         "155.60001"
        ],
        [
         "34",
         "[6] Picking in front",
         "156.88",
         "159.16"
        ],
        [
         "35",
         "[2] Consult sheets",
         "160.0",
         "164.36"
        ],
        [
         "36",
         "[12] Assemble system",
         "165.8",
         "168.12"
        ],
        [
         "37",
         "[7] Picking left",
         "171.08",
         "172.67999"
        ],
        [
         "38",
         "[12] Assemble system",
         "173.44",
         "175.44"
        ],
        [
         "39",
         "[6] Picking in front",
         "176.36",
         "178.16"
        ],
        [
         "40",
         "[12] Assemble system",
         "179.03999",
         "183.36"
        ],
        [
         "41",
         "[6] Picking in front",
         "184.88",
         "186.32001"
        ],
        [
         "42",
         "[12] Assemble system",
         "186.64",
         "187.60001"
        ],
        [
         "43",
         "[7] Picking left",
         "188.2",
         "189.96001"
        ],
        [
         "44",
         "[4] Take screwdriver",
         "191.36",
         "193.08"
        ],
        [
         "45",
         "[12] Assemble system",
         "193.84",
         "196.24001"
        ],
        [
         "46",
         "[5] Put down screwdriver",
         "196.56",
         "198.60001"
        ],
        [
         "47",
         "[6] Picking in front",
         "199.16",
         "200.84"
        ],
        [
         "48",
         "[12] Assemble system",
         "201.48",
         "204.8"
        ],
        [
         "49",
         "[14] Put down subsystem",
         "217.52",
         "224.39999"
        ]
       ],
       "shape": {
        "columns": 3,
        "rows": 109
       }
      },
      "text/html": [
       "<div>\n",
       "<style scoped>\n",
       "    .dataframe tbody tr th:only-of-type {\n",
       "        vertical-align: middle;\n",
       "    }\n",
       "\n",
       "    .dataframe tbody tr th {\n",
       "        vertical-align: top;\n",
       "    }\n",
       "\n",
       "    .dataframe thead th {\n",
       "        text-align: right;\n",
       "    }\n",
       "</style>\n",
       "<table border=\"1\" class=\"dataframe\">\n",
       "  <thead>\n",
       "    <tr style=\"text-align: right;\">\n",
       "      <th></th>\n",
       "      <th>Label</th>\n",
       "      <th>Start Time (s)</th>\n",
       "      <th>End Time (s)</th>\n",
       "    </tr>\n",
       "  </thead>\n",
       "  <tbody>\n",
       "    <tr>\n",
       "      <th>0</th>\n",
       "      <td>[2] Consult sheets</td>\n",
       "      <td>2.72000</td>\n",
       "      <td>9.00000</td>\n",
       "    </tr>\n",
       "    <tr>\n",
       "      <th>1</th>\n",
       "      <td>[7] Picking left</td>\n",
       "      <td>11.28000</td>\n",
       "      <td>12.84000</td>\n",
       "    </tr>\n",
       "    <tr>\n",
       "      <th>2</th>\n",
       "      <td>[12] Assemble system</td>\n",
       "      <td>13.84000</td>\n",
       "      <td>18.88000</td>\n",
       "    </tr>\n",
       "    <tr>\n",
       "      <th>3</th>\n",
       "      <td>[6] Picking in front</td>\n",
       "      <td>23.32000</td>\n",
       "      <td>25.44000</td>\n",
       "    </tr>\n",
       "    <tr>\n",
       "      <th>4</th>\n",
       "      <td>[12] Assemble system</td>\n",
       "      <td>26.48000</td>\n",
       "      <td>28.80000</td>\n",
       "    </tr>\n",
       "    <tr>\n",
       "      <th>...</th>\n",
       "      <td>...</td>\n",
       "      <td>...</td>\n",
       "      <td>...</td>\n",
       "    </tr>\n",
       "    <tr>\n",
       "      <th>104</th>\n",
       "      <td>[12] Assemble system</td>\n",
       "      <td>492.88000</td>\n",
       "      <td>497.88000</td>\n",
       "    </tr>\n",
       "    <tr>\n",
       "      <th>105</th>\n",
       "      <td>[4] Take screwdriver</td>\n",
       "      <td>504.64001</td>\n",
       "      <td>506.16000</td>\n",
       "    </tr>\n",
       "    <tr>\n",
       "      <th>106</th>\n",
       "      <td>[12] Assemble system</td>\n",
       "      <td>506.39999</td>\n",
       "      <td>509.79999</td>\n",
       "    </tr>\n",
       "    <tr>\n",
       "      <th>107</th>\n",
       "      <td>[5] Put down screwdriver</td>\n",
       "      <td>509.88000</td>\n",
       "      <td>512.08002</td>\n",
       "    </tr>\n",
       "    <tr>\n",
       "      <th>108</th>\n",
       "      <td>[14] Put down subsystem</td>\n",
       "      <td>515.00000</td>\n",
       "      <td>523.28003</td>\n",
       "    </tr>\n",
       "  </tbody>\n",
       "</table>\n",
       "<p>109 rows × 3 columns</p>\n",
       "</div>"
      ],
      "text/plain": [
       "                        Label  Start Time (s)  End Time (s)\n",
       "0          [2] Consult sheets         2.72000       9.00000\n",
       "1            [7] Picking left        11.28000      12.84000\n",
       "2        [12] Assemble system        13.84000      18.88000\n",
       "3        [6] Picking in front        23.32000      25.44000\n",
       "4        [12] Assemble system        26.48000      28.80000\n",
       "..                        ...             ...           ...\n",
       "104      [12] Assemble system       492.88000     497.88000\n",
       "105      [4] Take screwdriver       504.64001     506.16000\n",
       "106      [12] Assemble system       506.39999     509.79999\n",
       "107  [5] Put down screwdriver       509.88000     512.08002\n",
       "108   [14] Put down subsystem       515.00000     523.28003\n",
       "\n",
       "[109 rows x 3 columns]"
      ]
     },
     "metadata": {},
     "output_type": "display_data"
    }
   ],
   "source": [
    "import xml.etree.ElementTree as ET\n",
    "import pandas as pd\n",
    "import os\n",
    "\n",
    "def parse_anvil_track(anvil_file, track_name):\n",
    "    \"\"\"\n",
    "    지정된 .anvil 파일에서 특정 트랙 이름의 주석(annotation)을 파싱하여\n",
    "    Pandas DataFrame으로 반환하는 함수.\n",
    "\n",
    "    :param anvil_file: 파싱할 .anvil 파일 경로\n",
    "    :param track_name: 추출할 트랙의 이름 (예: \"Action Label\")\n",
    "    :return: 파싱된 데이터가 담긴 DataFrame\n",
    "    \"\"\"\n",
    "    if not os.path.exists(anvil_file):\n",
    "        print(f\"[오류] Anvil 파일 '{anvil_file}'을 찾을 수 없습니다.\")\n",
    "        return None\n",
    "\n",
    "    try:\n",
    "        tree = ET.parse(anvil_file)\n",
    "        root = tree.getroot()\n",
    "\n",
    "        annotations = []\n",
    "        \n",
    "        # XML 파일 내에서 정확한 트랙 이름으로 해당 트랙을 찾음\n",
    "        target_track = root.find(f'.//track[@name=\"{track_name}\"]')\n",
    "\n",
    "        if target_track is None:\n",
    "            print(f\"[정보] '{track_name}' 트랙을 찾을 수 없습니다.\")\n",
    "            return None\n",
    "\n",
    "        # 트랙 내의 모든 'el' 태그를 순회\n",
    "        for element in target_track.findall('el'):\n",
    "            start_time = element.get('start')\n",
    "            end_time = element.get('end')\n",
    "            \n",
    "            # 'el' 태그 내부의 'attribute' 태그에서 레이블 텍스트를 추출\n",
    "            attribute = element.find('attribute')\n",
    "            if attribute is not None and attribute.text:\n",
    "                action_label = attribute.text\n",
    "                annotations.append({\n",
    "                    'Label': action_label,\n",
    "                    'Start Time (s)': float(start_time),\n",
    "                    'End Time (s)': float(end_time)\n",
    "                })\n",
    "\n",
    "        return pd.DataFrame(annotations)\n",
    "\n",
    "    except ET.ParseError as e:\n",
    "        print(f\"[오류] XML 파일을 파싱하는 중 오류가 발생했습니다: {e}\")\n",
    "        return None\n",
    "    except Exception as e:\n",
    "        print(f\"알 수 없는 오류가 발생했습니다: {e}\")\n",
    "        return None\n",
    "\n",
    "# --- 사용자 설정 ---\n",
    "anvil_file = './sample data/P01_R01.anvil' \n",
    "\n",
    "# --- \"Action Label\" 트랙 파싱 및 출력 ---\n",
    "print(f\"--- {anvil_file} | Track: Action Label ---\")\n",
    "action_df = parse_anvil_track(anvil_file, \"Action Label\")\n",
    "\n",
    "if action_df is not None and not action_df.empty:\n",
    "    # Jupyter Notebook 환경에서는 display를 사용하면 더 깔끔하게 보입니다.\n",
    "    try:\n",
    "        display(action_df)\n",
    "    except NameError:\n",
    "        print(action_df)\n",
    "\n",
    "print(\"\\n\" + \"=\"*50 + \"\\n\")\n",
    "\n",
    "# --- \"Meta-Action Label\" 트랙 파싱 및 출력 ---\n",
    "print(f\"--- {anvil_file} | Track: Meta-Action Label ---\")\n",
    "meta_action_df = parse_anvil_track(anvil_file, \"Meta-Action Label\")\n",
    "\n",
    "if meta_action_df is not None and not meta_action_df.empty:\n",
    "    try:\n",
    "        display(meta_action_df)\n",
    "    except NameError:\n",
    "        print(meta_action_df)"
   ]
  },
  {
   "cell_type": "code",
   "execution_count": null,
   "id": "2132f789",
   "metadata": {},
   "outputs": [
    {
     "name": "stdout",
     "output_type": "stream",
     "text": [
      "'trimmed_videos_re-encoded' 디렉토리를 생성했습니다.\n",
      "총 4개의 영상을 재인코딩하여 48초로 자릅니다. (시간이 더 걸릴 수 있습니다)\n",
      "------------------------------\n",
      "Processing: P01_R01_V1.mp4 -> P01_R01_V1_trimmed.mp4\n",
      "Processing: P01_R01_V2.mp4 -> P01_R01_V2_trimmed.mp4\n",
      "Processing: P01_R01_V4.mp4 -> P01_R01_V4_trimmed.mp4\n",
      "Processing: P01_R01_V3.mp4 -> P01_R01_V3_trimmed.mp4\n",
      "------------------------------\n",
      "모든 영상 자르기 작업이 완료되었습니다!\n",
      "-> 결과는 'trimmed_videos_re-encoded' 폴더에 저장되었습니다.\n"
     ]
    }
   ],
   "source": [
    "import os\n",
    "import subprocess\n",
    "\n",
    "# --- 사용자 설정 ---\n",
    "input_dir = 'split_videos'\n",
    "output_dir = 'trimmed_videos' # 새 출력 폴더 지정\n",
    "trim_duration = 48\n",
    "\n",
    "# --- 폴더 생성 및 파일 확인 ---\n",
    "if not os.path.exists(output_dir):\n",
    "    os.makedirs(output_dir)\n",
    "    print(f\"'{output_dir}' 디렉토리를 생성했습니다.\")\n",
    "\n",
    "if not os.path.exists(input_dir):\n",
    "    print(f\"[오류] 입력 폴더 '{input_dir}'를 찾을 수 없습니다.\")\n",
    "    exit()\n",
    "\n",
    "video_files = [f for f in os.listdir(input_dir) if f.endswith(('.mp4', '.avi'))]\n",
    "if not video_files:\n",
    "    print(f\"[오류] '{input_dir}' 폴더에 처리할 영상 파일이 없습니다.\")\n",
    "    exit()\n",
    "\n",
    "print(f\"총 {len(video_files)}개의 영상을 재인코딩하여 {trim_duration}초로 자릅니다. (시간이 더 걸릴 수 있습니다)\")\n",
    "print(\"-\" * 30)\n",
    "\n",
    "# --- FFmpeg로 각 영상 자르기 (재인코딩) ---\n",
    "for filename in video_files:\n",
    "    input_path = os.path.join(input_dir, filename)\n",
    "    base, ext = os.path.splitext(filename)\n",
    "    output_filename = f\"{base}_trimmed{ext}\"\n",
    "    output_path = os.path.join(output_dir, output_filename)\n",
    "    \n",
    "    print(f\"Processing: {filename} -> {output_filename}\")\n",
    "\n",
    "    # -c copy 옵션을 제거하여 재인코딩 수행\n",
    "    command = [\n",
    "        'ffmpeg',\n",
    "        '-y',\n",
    "        '-i', input_path,\n",
    "        '-ss', '0',\n",
    "        '-t', str(trim_duration),\n",
    "        # '-c', 'copy', # 이 부분을 제거하거나 주석 처리\n",
    "        output_path\n",
    "    ]\n",
    "\n",
    "    try:\n",
    "        subprocess.run(command, check=True, capture_output=True, text=True)\n",
    "    except FileNotFoundError:\n",
    "        print(\"[오류] FFmpeg가 설치되어 있지 않거나 경로가 설정되지 않았습니다.\")\n",
    "        exit()\n",
    "    except subprocess.CalledProcessError as e:\n",
    "        print(f\"[오류] {filename} 처리 중 FFmpeg 오류 발생:\\n-> {e.stderr}\")\n",
    "        continue\n",
    "\n",
    "print(\"-\" * 30)\n",
    "print(\"모든 영상 자르기 작업이 완료되었습니다!\")\n",
    "print(f\"-> 결과는 '{output_dir}' 폴더에 저장되었습니다.\")"
   ]
  },
  {
   "cell_type": "code",
   "execution_count": null,
   "id": "e4deea07",
   "metadata": {},
   "outputs": [],
   "source": []
  }
 ],
 "metadata": {
  "kernelspec": {
   "display_name": "inhard_env",
   "language": "python",
   "name": "python3"
  },
  "language_info": {
   "codemirror_mode": {
    "name": "ipython",
    "version": 3
   },
   "file_extension": ".py",
   "mimetype": "text/x-python",
   "name": "python",
   "nbconvert_exporter": "python",
   "pygments_lexer": "ipython3",
   "version": "3.9.7"
  }
 },
 "nbformat": 4,
 "nbformat_minor": 5
}
